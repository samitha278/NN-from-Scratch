{
 "cells": [
  {
   "cell_type": "code",
   "execution_count": 1,
   "id": "e0fc6195",
   "metadata": {},
   "outputs": [],
   "source": [
    "import numpy as np"
   ]
  },
  {
   "cell_type": "code",
   "execution_count": 3,
   "id": "456f066f",
   "metadata": {},
   "outputs": [],
   "source": [
    "np.random.seed(48)\n",
    "\n",
    "input_ns = 2\n",
    "hidden_ns = 3\n",
    "output_ns = 1\n",
    "\n",
    "W1 = np.random.randn(input_ns,hidden_ns)\n",
    "b1 = np.zeros((1,hidden_ns))\n",
    "W2 = np.random.randn(hidden_ns,output_ns)\n",
    "b2 = np.zeros((1,output_ns))\n"
   ]
  },
  {
   "cell_type": "code",
   "execution_count": 4,
   "id": "dd9cb095",
   "metadata": {},
   "outputs": [],
   "source": [
    "def sigmoid(z):\n",
    "    return 1/1+np.exp(-z)\n",
    "\n",
    "def relu(z):\n",
    "    return np.maximum(0,z)"
   ]
  },
  {
   "cell_type": "code",
   "execution_count": 5,
   "id": "3dd37f51",
   "metadata": {},
   "outputs": [],
   "source": [
    "def dSigmoid(z):\n",
    "    return sigmoid(z)*(1-sigmoid(z))\n",
    "\n",
    "def dRelu(z):\n",
    "    return (x > 0) * 1"
   ]
  },
  {
   "cell_type": "code",
   "execution_count": 6,
   "id": "0718bfd1",
   "metadata": {},
   "outputs": [],
   "source": [
    "def forward_prop(X):\n",
    "    \n",
    "    global Z1,A1,Z2,A2\n",
    "    \n",
    "    Z1 = np.matmul(X,W1) + b1\n",
    "    A1 = relu(Z1)\n",
    "    \n",
    "    Z2 = np.matmul(A1,W2) + b2\n",
    "    A2 = sigmoid(Z2)\n",
    "    \n",
    "    return A2"
   ]
  },
  {
   "cell_type": "code",
   "execution_count": 7,
   "id": "209196da",
   "metadata": {},
   "outputs": [],
   "source": [
    "def binary_cross_entropy(y_true, y_pred):\n",
    "    bce = -np.mean(y_true * np.log(y_pred) + (1 - y_true) * np.log(1 - y_pred))\n",
    "    return bce"
   ]
  },
  {
   "cell_type": "code",
   "execution_count": null,
   "id": "cdec83f7",
   "metadata": {},
   "outputs": [],
   "source": []
  }
 ],
 "metadata": {
  "kernelspec": {
   "display_name": "Python 3 (ipykernel)",
   "language": "python",
   "name": "python3"
  },
  "language_info": {
   "codemirror_mode": {
    "name": "ipython",
    "version": 3
   },
   "file_extension": ".py",
   "mimetype": "text/x-python",
   "name": "python",
   "nbconvert_exporter": "python",
   "pygments_lexer": "ipython3",
   "version": "3.11.5"
  }
 },
 "nbformat": 4,
 "nbformat_minor": 5
}
